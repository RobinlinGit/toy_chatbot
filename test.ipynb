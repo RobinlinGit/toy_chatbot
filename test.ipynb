{
 "metadata": {
  "language_info": {
   "codemirror_mode": {
    "name": "ipython",
    "version": 3
   },
   "file_extension": ".py",
   "mimetype": "text/x-python",
   "name": "python",
   "nbconvert_exporter": "python",
   "pygments_lexer": "ipython3",
   "version": "3.7.4-final"
  },
  "orig_nbformat": 2,
  "kernelspec": {
   "name": "Python 3.7.4 64-bit",
   "display_name": "Python 3.7.4 64-bit",
   "metadata": {
    "interpreter": {
     "hash": "91762315374010663d2de861b3829a59cd60b6aa603df6faa911cea3a15a614d"
    }
   }
  }
 },
 "nbformat": 4,
 "nbformat_minor": 2,
 "cells": [
  {
   "cell_type": "code",
   "execution_count": 1,
   "metadata": {},
   "outputs": [],
   "source": [
    "import torch\n",
    "import torch.nn as nn\n",
    "import math\n",
    "import torch.nn.functional as F\n",
    "from torch.utils.data import DataLoader"
   ]
  },
  {
   "cell_type": "code",
   "execution_count": 2,
   "metadata": {},
   "outputs": [],
   "source": [
    "from utils import TextPairDataset, collate_fn_for_text_pair\n",
    "from utils import DictMaker\n",
    "from models import TransformerModel"
   ]
  },
  {
   "cell_type": "code",
   "execution_count": 3,
   "metadata": {},
   "outputs": [
    {
     "output_type": "stream",
     "name": "stderr",
     "text": [
      "build voc......: 100%|██████████| 564/564 [00:00<00:00, 113121.05it/s]\n",
      "sentence to index: 100%|██████████| 564/564 [00:00<00:00, 141372.58it/s]\n"
     ]
    }
   ],
   "source": [
    "filename = \"C://NLP//clean_chat_corpus//chatterbot.tsv\"\n",
    "dt = TextPairDataset(filename)"
   ]
  },
  {
   "cell_type": "code",
   "execution_count": 4,
   "metadata": {},
   "outputs": [],
   "source": [
    "data_iter = DataLoader(dt, batch_size=128, collate_fn=collate_fn_for_text_pair, shuffle=True)"
   ]
  },
  {
   "cell_type": "code",
   "execution_count": 5,
   "metadata": {},
   "outputs": [
    {
     "output_type": "stream",
     "name": "stdout",
     "text": [
      "tensor([[  1,   1,   1,  ...,   1,   1,   1],\n        [663,  30,   3,  ..., 185, 185, 148],\n        [179, 130,   4,  ..., 108, 108,   2],\n        ...,\n        [ 17,   0,   0,  ...,   0,   0,   0],\n        [389,   0,   0,  ...,   0,   0,   0],\n        [  2,   0,   0,  ...,   0,   0,   0]])\ntorch.Size([22, 128])\n"
     ]
    }
   ],
   "source": [
    "for batch in data_iter:\n",
    "    print(batch[0])\n",
    "    print(batch[0].shape)\n",
    "    break"
   ]
  },
  {
   "cell_type": "code",
   "execution_count": 6,
   "metadata": {},
   "outputs": [
    {
     "output_type": "stream",
     "name": "stdout",
     "text": [
      "tensor([[False, False, False,  ..., False, False, False],\n        [False, False, False,  ..., False, False, False],\n        [False, False, False,  ..., False, False, False],\n        ...,\n        [False,  True,  True,  ...,  True,  True,  True],\n        [False,  True,  True,  ...,  True,  True,  True],\n        [False,  True,  True,  ...,  True,  True,  True]])\n"
     ]
    }
   ],
   "source": [
    "mask = batch[0] == 0\n",
    "print(mask)"
   ]
  },
  {
   "cell_type": "code",
   "execution_count": 7,
   "metadata": {},
   "outputs": [
    {
     "output_type": "stream",
     "name": "stdout",
     "text": [
      "1318\n"
     ]
    }
   ],
   "source": [
    "print(dt.voc.num_words)"
   ]
  },
  {
   "cell_type": "code",
   "execution_count": 8,
   "metadata": {},
   "outputs": [],
   "source": [
    "emb = nn.Embedding(1318, 10)"
   ]
  },
  {
   "cell_type": "code",
   "execution_count": 9,
   "metadata": {},
   "outputs": [
    {
     "output_type": "stream",
     "name": "stdout",
     "text": [
      "torch.Size([22, 128, 10])\n"
     ]
    }
   ],
   "source": [
    "a = emb(batch[0])\n",
    "print(a.shape)"
   ]
  },
  {
   "cell_type": "code",
   "execution_count": 10,
   "metadata": {},
   "outputs": [],
   "source": [
    "\n",
    "model = TransformerModel(dt.voc.num_words, ninp=16, nhead=4, nhid=256, nlayers=6)"
   ]
  },
  {
   "cell_type": "code",
   "execution_count": 12,
   "metadata": {},
   "outputs": [
    {
     "output_type": "stream",
     "name": "stdout",
     "text": [
      "torch.Size([22, 128])\n",
      "torch.Size([69, 128])\n",
      "output torch.Size([69, 128, 16])\n"
     ]
    }
   ],
   "source": [
    "print(batch[0].size())\n",
    "print(batch[1].size())\n",
    "output = model(batch[0], batch[1])"
   ]
  },
  {
   "cell_type": "code",
   "execution_count": 12,
   "metadata": {},
   "outputs": [
    {
     "output_type": "stream",
     "name": "stdout",
     "text": [
      "torch.Size([69, 128, 1318])\n"
     ]
    }
   ],
   "source": [
    "print(output.size())"
   ]
  },
  {
   "cell_type": "code",
   "execution_count": 13,
   "metadata": {},
   "outputs": [
    {
     "output_type": "stream",
     "name": "stdout",
     "text": [
      "torch.Size([8832, 1318])\n"
     ]
    }
   ],
   "source": [
    "output_dim = output.shape[-1]\n",
    "output2 = output.contiguous().view(-1, output_dim)\n",
    "print(output2.size())"
   ]
  },
  {
   "cell_type": "code",
   "execution_count": 15,
   "metadata": {},
   "outputs": [
    {
     "output_type": "stream",
     "name": "stdout",
     "text": [
      "torch.Size([8832])\n"
     ]
    }
   ],
   "source": [
    "print(batch[1].contiguous().view(-1).size())"
   ]
  },
  {
   "cell_type": "code",
   "execution_count": 16,
   "metadata": {},
   "outputs": [],
   "source": [
    "loss = F.cross_entropy(output2, batch[1].contiguous().view(-1))"
   ]
  },
  {
   "cell_type": "code",
   "execution_count": 17,
   "metadata": {},
   "outputs": [
    {
     "output_type": "stream",
     "name": "stdout",
     "text": [
      "tensor(6.7771, grad_fn=<NllLossBackward>)\n"
     ]
    }
   ],
   "source": [
    "print(loss)"
   ]
  },
  {
   "cell_type": "code",
   "execution_count": 13,
   "metadata": {},
   "outputs": [
    {
     "output_type": "stream",
     "name": "stdout",
     "text": [
      "torch.Size([69, 128])\n"
     ]
    }
   ],
   "source": [
    "pred = output.argmax(2)\n",
    "print(pred.size())"
   ]
  },
  {
   "cell_type": "code",
   "execution_count": 14,
   "metadata": {},
   "outputs": [
    {
     "output_type": "stream",
     "name": "stdout",
     "text": [
      "torch.Size([69])\n"
     ]
    }
   ],
   "source": [
    "pred = pred[:, -1]\n",
    "print(pred.size())"
   ]
  },
  {
   "cell_type": "code",
   "execution_count": null,
   "metadata": {},
   "outputs": [],
   "source": []
  }
 ]
}